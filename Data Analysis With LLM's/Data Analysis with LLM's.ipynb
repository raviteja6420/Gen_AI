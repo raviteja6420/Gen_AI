{
 "cells": [
  {
   "cell_type": "markdown",
   "id": "20d5bf21-73cb-4b66-9e83-00ad5ecf1ad6",
   "metadata": {},
   "source": [
    "# Statistical Analysis of CSV files using LLM's"
   ]
  },
  {
   "cell_type": "markdown",
   "id": "230d4a28-cd0b-4890-862a-f55f6dab3c94",
   "metadata": {},
   "source": [
    "## Import Libraries"
   ]
  },
  {
   "cell_type": "code",
   "execution_count": 1,
   "id": "d09bae17-8373-4dc9-b10b-f4b1d1b56e6f",
   "metadata": {},
   "outputs": [],
   "source": [
    "from langchain.agents.agent_types import AgentType\n",
    "from langchain_experimental.agents import create_csv_agent\n",
    "\n",
    "from langchain_google_genai import ChatGoogleGenerativeAI"
   ]
  },
  {
   "cell_type": "code",
   "execution_count": 4,
   "id": "9bf1a4b8-f69b-43de-a48d-118ceff01e6b",
   "metadata": {},
   "outputs": [],
   "source": [
    "api_key = \"Replace with your Gemini API key\"\n",
    "\n",
    "agent = create_csv_agent( ChatGoogleGenerativeAI(google_api_key=api_key, model=\"gemini-1.5-pro-latest\"),\n",
    "                         \"data/Telco-Customer-Churn.csv\", \n",
    "                         verbose=True, \n",
    "                         agent_type=AgentType.ZERO_SHOT_REACT_DESCRIPTION,\n",
    "                         allow_dangerous_code=True\n",
    "                        )"
   ]
  },
  {
   "cell_type": "code",
   "execution_count": 5,
   "id": "c801ee37-c859-4f15-8083-19827eb4b70a",
   "metadata": {},
   "outputs": [
    {
     "name": "stdout",
     "output_type": "stream",
     "text": [
      "\n",
      "\n",
      "\u001b[1m> Entering new AgentExecutor chain...\u001b[0m\n",
      "\u001b[32;1m\u001b[1;3mThought: I need to filter the dataframe to only include customers where Churn is Yes and then count the rows.\n",
      "Action: python_repl_ast\n",
      "Action Input: \n",
      "```python\n",
      "len(df[df['Churn'] == 'Yes'])\n",
      "```\u001b[0m\u001b[36;1m\u001b[1;3m1869\u001b[0m\u001b[32;1m\u001b[1;3mThought: I now know the final answer\n",
      "Final Answer: There are 1869 churned customers. \n",
      "\u001b[0m\n",
      "\n",
      "\u001b[1m> Finished chain.\u001b[0m\n"
     ]
    },
    {
     "data": {
      "text/plain": [
       "{'input': 'How many customers are Churned?',\n",
       " 'output': 'There are 1869 churned customers.'}"
      ]
     },
     "execution_count": 5,
     "metadata": {},
     "output_type": "execute_result"
    }
   ],
   "source": [
    "agent.invoke('How many customers are Churned?')"
   ]
  },
  {
   "cell_type": "code",
   "execution_count": 6,
   "id": "464edae1-c528-4dbb-9693-ff01fb7cef40",
   "metadata": {},
   "outputs": [
    {
     "name": "stdout",
     "output_type": "stream",
     "text": [
      "\n",
      "\n",
      "\u001b[1m> Entering new AgentExecutor chain...\u001b[0m\n",
      "\u001b[32;1m\u001b[1;3mThought: I should filter the dataframe on 'gender' and 'Churn' columns and then count the rows.\n",
      "Action: python_repl_ast\n",
      "Action Input: \n",
      "```python\n",
      "print(len(df[(df['gender'] == 'Male') & (df['Churn'] == 'Yes')]))\n",
      "```\u001b[0m\u001b[36;1m\u001b[1;3m930\n",
      "\u001b[0m"
     ]
    },
    {
     "name": "stderr",
     "output_type": "stream",
     "text": [
      "Retrying langchain_google_genai.chat_models._chat_with_retry.<locals>._chat_with_retry in 2.0 seconds as it raised ResourceExhausted: 429 Resource has been exhausted (e.g. check quota)..\n"
     ]
    },
    {
     "name": "stdout",
     "output_type": "stream",
     "text": [
      "\u001b[32;1m\u001b[1;3mThought: I now know the final answer. \n",
      "Final Answer: There are 930 male churned candidates. \n",
      "\u001b[0m\n",
      "\n",
      "\u001b[1m> Finished chain.\u001b[0m\n"
     ]
    }
   ],
   "source": [
    "res = agent.invoke('How many Male candidates are churned?')"
   ]
  },
  {
   "cell_type": "code",
   "execution_count": 7,
   "id": "e45f4f60-25a9-4806-96fa-846e3a88791f",
   "metadata": {},
   "outputs": [
    {
     "data": {
      "text/plain": [
       "dict"
      ]
     },
     "execution_count": 7,
     "metadata": {},
     "output_type": "execute_result"
    }
   ],
   "source": [
    "type(res)"
   ]
  },
  {
   "cell_type": "code",
   "execution_count": 8,
   "id": "398cf741-2b08-4bee-a565-896973d5f3d9",
   "metadata": {},
   "outputs": [
    {
     "data": {
      "text/plain": [
       "{'input': 'How many Male candidates are churned?',\n",
       " 'output': 'There are 930 male churned candidates.'}"
      ]
     },
     "execution_count": 8,
     "metadata": {},
     "output_type": "execute_result"
    }
   ],
   "source": [
    "res"
   ]
  },
  {
   "cell_type": "code",
   "execution_count": 9,
   "id": "6e3b792c-1a62-492f-ba92-7742d21b7cfe",
   "metadata": {},
   "outputs": [
    {
     "name": "stderr",
     "output_type": "stream",
     "text": [
      "C:\\Users\\Hp\\AppData\\Local\\Programs\\Python\\Python310\\lib\\site-packages\\langchain_core\\_api\\deprecation.py:139: LangChainDeprecationWarning: The method `Chain.run` was deprecated in langchain 0.1.0 and will be removed in 0.3.0. Use invoke instead.\n",
      "  warn_deprecated(\n"
     ]
    },
    {
     "name": "stdout",
     "output_type": "stream",
     "text": [
      "\n",
      "\n",
      "\u001b[1m> Entering new AgentExecutor chain...\u001b[0m\n"
     ]
    },
    {
     "name": "stderr",
     "output_type": "stream",
     "text": [
      "Retrying langchain_google_genai.chat_models._chat_with_retry.<locals>._chat_with_retry in 2.0 seconds as it raised ResourceExhausted: 429 Resource has been exhausted (e.g. check quota)..\n"
     ]
    },
    {
     "name": "stdout",
     "output_type": "stream",
     "text": [
      "\u001b[32;1m\u001b[1;3mThought: I can use the shape attribute of the dataframe to get the number of rows and columns.\n",
      "Action: python_repl_ast\n",
      "Action Input: df.shape\u001b[0m\u001b[36;1m\u001b[1;3m(7043, 21)\u001b[0m"
     ]
    },
    {
     "name": "stderr",
     "output_type": "stream",
     "text": [
      "Retrying langchain_google_genai.chat_models._chat_with_retry.<locals>._chat_with_retry in 2.0 seconds as it raised ResourceExhausted: 429 Resource has been exhausted (e.g. check quota)..\n",
      "Retrying langchain_google_genai.chat_models._chat_with_retry.<locals>._chat_with_retry in 4.0 seconds as it raised ResourceExhausted: 429 Resource has been exhausted (e.g. check quota)..\n",
      "Retrying langchain_google_genai.chat_models._chat_with_retry.<locals>._chat_with_retry in 8.0 seconds as it raised ResourceExhausted: 429 Resource has been exhausted (e.g. check quota)..\n",
      "Retrying langchain_google_genai.chat_models._chat_with_retry.<locals>._chat_with_retry in 16.0 seconds as it raised ResourceExhausted: 429 Resource has been exhausted (e.g. check quota)..\n"
     ]
    },
    {
     "name": "stdout",
     "output_type": "stream",
     "text": [
      "\u001b[32;1m\u001b[1;3mThought: I now know the final answer. \n",
      "Final Answer: There are 7043 rows and 21 columns in the data. \n",
      "\u001b[0m\n",
      "\n",
      "\u001b[1m> Finished chain.\u001b[0m\n"
     ]
    }
   ],
   "source": [
    "result = agent.run('How many rows and columns are there in the data?')"
   ]
  },
  {
   "cell_type": "code",
   "execution_count": 10,
   "id": "5601bbad-9457-4393-bb46-878b4d9ee609",
   "metadata": {},
   "outputs": [
    {
     "data": {
      "text/plain": [
       "str"
      ]
     },
     "execution_count": 10,
     "metadata": {},
     "output_type": "execute_result"
    }
   ],
   "source": [
    "type(result)"
   ]
  },
  {
   "cell_type": "code",
   "execution_count": 11,
   "id": "e047b37a-4f92-4034-a895-80b7b569fde6",
   "metadata": {},
   "outputs": [
    {
     "data": {
      "text/plain": [
       "'There are 7043 rows and 21 columns in the data.'"
      ]
     },
     "execution_count": 11,
     "metadata": {},
     "output_type": "execute_result"
    }
   ],
   "source": [
    "result"
   ]
  },
  {
   "cell_type": "markdown",
   "id": "9d15ddba-7b79-4028-83bb-992c0a1787e7",
   "metadata": {},
   "source": [
    "## Agent with Statistics Capabilities"
   ]
  },
  {
   "cell_type": "code",
   "execution_count": 12,
   "id": "9f5a423d-65b3-4a17-bdac-cb5f5fb5fae0",
   "metadata": {},
   "outputs": [
    {
     "name": "stdout",
     "output_type": "stream",
     "text": [
      "\n",
      "\n",
      "\u001b[1m> Entering new AgentExecutor chain...\u001b[0m\n"
     ]
    },
    {
     "name": "stderr",
     "output_type": "stream",
     "text": [
      "C:\\Users\\Hp\\AppData\\Local\\Programs\\Python\\Python310\\lib\\site-packages\\langchain_experimental\\agents\\agent_toolkits\\pandas\\base.py:282: UserWarning: Received additional kwargs {'capabilities': ['statistics']} which are no longer supported.\n",
      "  warnings.warn(\n"
     ]
    },
    {
     "name": "stdout",
     "output_type": "stream",
     "text": [
      "\u001b[32;1m\u001b[1;3mThought: I need to use the `value_counts()` method on the 'Churn' column to get the count of each unique value.\n",
      "Action: python_repl_ast\n",
      "Action Input: `print(df['Churn'].value_counts())`\u001b[0m\u001b[36;1m\u001b[1;3mNo     5174\n",
      "Yes    1869\n",
      "Name: Churn, dtype: int64\n",
      "\u001b[0m\u001b[32;1m\u001b[1;3mThought: I now have the value counts for the 'Churn' column, but I also need the total count and the number of unique values. I can use `len(df)` for the total count and `df['Churn'].nunique()` for the number of unique values.\n",
      "Action: python_repl_ast\n",
      "Action Input: \n",
      "```python\n",
      "print(len(df))\n",
      "print(df['Churn'].nunique())\n",
      "```\u001b[0m7043\n",
      "\u001b[36;1m\u001b[1;3m2\n",
      "\u001b[0m"
     ]
    },
    {
     "name": "stderr",
     "output_type": "stream",
     "text": [
      "Retrying langchain_google_genai.chat_models._chat_with_retry.<locals>._chat_with_retry in 2.0 seconds as it raised ResourceExhausted: 429 Resource has been exhausted (e.g. check quota)..\n"
     ]
    },
    {
     "name": "stdout",
     "output_type": "stream",
     "text": [
      "\u001b[32;1m\u001b[1;3mObservation: \n",
      "```\n",
      "7043\n",
      "2\n",
      "```\n",
      "\n",
      "Thought: I now know the final answer\n",
      "Final Answer: The 'Churn' column has 2 unique values. There are 5174 occurrences of 'No' and 1869 occurrences of 'Yes', from a total of 7043 entries. \n",
      "\u001b[0m\n",
      "\n",
      "\u001b[1m> Finished chain.\u001b[0m\n",
      "{'input': 'perform analysis on churn column by finding count, unique and value counts', 'output': \"The 'Churn' column has 2 unique values. There are 5174 occurrences of 'No' and 1869 occurrences of 'Yes', from a total of 7043 entries.\"}\n"
     ]
    }
   ],
   "source": [
    "api_key = \"Replace with your Gemini API key\"\n",
    "\n",
    "stat_agent = create_csv_agent( ChatGoogleGenerativeAI(google_api_key=api_key, model=\"gemini-1.5-pro-latest\"),\n",
    "                         \"data/Telco-Customer-Churn.csv\", \n",
    "                         verbose=True, \n",
    "                         agent_type=AgentType.ZERO_SHOT_REACT_DESCRIPTION,\n",
    "                         allow_dangerous_code=True, \n",
    "                         capabilities=['statistics'] )\n",
    "\n",
    "\n",
    "response = stat_agent.invoke('perform analysis on churn column by finding count, unique and value counts')\n",
    "print(response)"
   ]
  },
  {
   "cell_type": "markdown",
   "id": "a7773777-1b88-48d0-9b46-8d3c45cc0640",
   "metadata": {},
   "source": [
    "## Agent with Plotting Capabilities"
   ]
  },
  {
   "cell_type": "code",
   "execution_count": 13,
   "id": "be5efa87-6b26-423c-af83-15a2cc7d68c6",
   "metadata": {},
   "outputs": [
    {
     "name": "stdout",
     "output_type": "stream",
     "text": [
      "\n",
      "\n",
      "\u001b[1m> Entering new AgentExecutor chain...\u001b[0m\n"
     ]
    },
    {
     "name": "stderr",
     "output_type": "stream",
     "text": [
      "C:\\Users\\Hp\\AppData\\Local\\Programs\\Python\\Python310\\lib\\site-packages\\langchain_experimental\\agents\\agent_toolkits\\pandas\\base.py:282: UserWarning: Received additional kwargs {'capabilities': ['plotting']} which are no longer supported.\n",
      "  warnings.warn(\n"
     ]
    },
    {
     "name": "stdout",
     "output_type": "stream",
     "text": [
      "\u001b[32;1m\u001b[1;3mThought: I need to use the pandas library to create a bar plot of the 'Gender' column in the dataframe.\n",
      "Action: python_repl_ast\n",
      "Action Input: \n",
      "```python\n",
      "import matplotlib.pyplot as plt\n",
      "df['gender'].value_counts().plot(kind='bar')\n",
      "plt.xlabel('Gender')\n",
      "plt.ylabel('Count')\n",
      "plt.title('Distribution of Gender')\n",
      "plt.show()\n",
      "```\u001b[0m"
     ]
    },
    {
     "data": {
      "image/png": "[encoded data removed]",
      "text/plain": [
       "<Figure size 640x480 with 1 Axes>"
      ]
     },
     "metadata": {},
     "output_type": "display_data"
    },
    {
     "name": "stdout",
     "output_type": "stream",
     "text": [
      "\u001b[36;1m\u001b[1;3m\u001b[0m"
     ]
    },
    {
     "name": "stderr",
     "output_type": "stream",
     "text": [
      "Retrying langchain_google_genai.chat_models._chat_with_retry.<locals>._chat_with_retry in 2.0 seconds as it raised ResourceExhausted: 429 Resource has been exhausted (e.g. check quota)..\n",
      "Retrying langchain_google_genai.chat_models._chat_with_retry.<locals>._chat_with_retry in 4.0 seconds as it raised ResourceExhausted: 429 Resource has been exhausted (e.g. check quota)..\n",
      "Retrying langchain_google_genai.chat_models._chat_with_retry.<locals>._chat_with_retry in 8.0 seconds as it raised ResourceExhausted: 429 Resource has been exhausted (e.g. check quota)..\n",
      "Retrying langchain_google_genai.chat_models._chat_with_retry.<locals>._chat_with_retry in 16.0 seconds as it raised ResourceExhausted: 429 Resource has been exhausted (e.g. check quota)..\n"
     ]
    },
    {
     "name": "stdout",
     "output_type": "stream",
     "text": [
      "\u001b[32;1m\u001b[1;3mObservation: <matplotlib.axes._subplots.AxesSubplot at 0x7f86e8f50790>\n",
      "Thought: I now know the final answer\n",
      "Final Answer: The code to generate the bar plot is: \n",
      "```python\n",
      "import matplotlib.pyplot as plt\n",
      "df['gender'].value_counts().plot(kind='bar')\n",
      "plt.xlabel('Gender')\n",
      "plt.ylabel('Count')\n",
      "plt.title('Distribution of Gender')\n",
      "plt.show()\n",
      "```\n",
      "This code will display a bar plot showing the distribution of 'Male' and 'Female' counts in the dataframe. \n",
      "\u001b[0m\n",
      "\n",
      "\u001b[1m> Finished chain.\u001b[0m\n",
      "{'input': 'Generate a bar plot on Gender column distribution?', 'output': \"The code to generate the bar plot is: \\n```python\\nimport matplotlib.pyplot as plt\\ndf['gender'].value_counts().plot(kind='bar')\\nplt.xlabel('Gender')\\nplt.ylabel('Count')\\nplt.title('Distribution of Gender')\\nplt.show()\\n```\\nThis code will display a bar plot showing the distribution of 'Male' and 'Female' counts in the dataframe.\"}\n"
     ]
    }
   ],
   "source": [
    "api_key = \"Replace with your Gemini API key\"\n",
    "\n",
    "plot_agent = create_csv_agent( ChatGoogleGenerativeAI(google_api_key=api_key, model=\"gemini-1.5-pro-latest\"),\n",
    "                         \"data/Telco-Customer-Churn.csv\", \n",
    "                         verbose=True, \n",
    "                         agent_type=AgentType.ZERO_SHOT_REACT_DESCRIPTION,\n",
    "                         allow_dangerous_code=True,\n",
    "                         capabilities=['plotting']   )\n",
    "\n",
    "\n",
    "response = plot_agent.invoke('Generate a bar plot on Gender column distribution?')\n",
    "print(response)"
   ]
  },
  {
   "cell_type": "code",
   "execution_count": 14,
   "id": "d934de0f-7bcc-41ff-8d7d-9ad0f6af15a1",
   "metadata": {},
   "outputs": [
    {
     "data": {
      "text/plain": [
       "dict"
      ]
     },
     "execution_count": 14,
     "metadata": {},
     "output_type": "execute_result"
    }
   ],
   "source": [
    "type(response)"
   ]
  },
  {
   "cell_type": "code",
   "execution_count": 15,
   "id": "08055443-c2ac-4b52-9f84-d5bde1f70138",
   "metadata": {},
   "outputs": [
    {
     "data": {
      "text/plain": [
       "\"The code to generate the bar plot is: \\n```python\\nimport matplotlib.pyplot as plt\\ndf['gender'].value_counts().plot(kind='bar')\\nplt.xlabel('Gender')\\nplt.ylabel('Count')\\nplt.title('Distribution of Gender')\\nplt.show()\\n```\\nThis code will display a bar plot showing the distribution of 'Male' and 'Female' counts in the dataframe.\""
      ]
     },
     "execution_count": 15,
     "metadata": {},
     "output_type": "execute_result"
    }
   ],
   "source": [
    "response['output']"
   ]
  },
  {
   "cell_type": "code",
   "execution_count": 16,
   "id": "31088b1f-c174-45d5-ae01-3f5f448a039d",
   "metadata": {},
   "outputs": [],
   "source": [
    "response = {'input': 'Generate a bar plot on Gender column distribution?', \n",
    "          'output': 'The code to generate the bar plot is: \\n ```python\\nimport matplotlib.pyplot as plt\\ndf[\\'gender\\'].value_counts().plot(kind=\\'bar\\')\\nplt.xlabel(\\'Gender\\')\\nplt.ylabel(\\'Count\\')\\nplt.title(\\'Distribution of Gender\\')\\nplt.show()\\n``` \\nThis code will display a bar plot showing the distribution of \"Male\" and \"Female\" genders within the dataframe.'}"
   ]
  },
  {
   "cell_type": "code",
   "execution_count": 17,
   "id": "3556622a-ccb7-4739-8dd9-eec3bb923181",
   "metadata": {},
   "outputs": [
    {
     "name": "stdout",
     "output_type": "stream",
     "text": [
      "import matplotlib.pyplot as plt\n",
      "df['gender'].value_counts().plot(kind='bar')\n",
      "plt.xlabel('Gender')\n",
      "plt.ylabel('Count')\n",
      "plt.title('Distribution of Gender')\n",
      "plt.show()\n"
     ]
    }
   ],
   "source": [
    "import re\n",
    "\n",
    "output = response['output']\n",
    "code_block = re.search(r'```python\\n(.*?)\\n```', output, re.DOTALL).group(1)\n",
    "print(code_block)"
   ]
  },
  {
   "cell_type": "code",
   "execution_count": 18,
   "id": "f5cb0cb0-a2ec-4a5f-a3d9-0d7eee9f517e",
   "metadata": {},
   "outputs": [
    {
     "data": {
      "text/plain": [
       "<Axes: >"
      ]
     },
     "execution_count": 18,
     "metadata": {},
     "output_type": "execute_result"
    },
    {
     "data": {
      "image/png": "[encoded data removed]",
      "text/plain": [
       "<Figure size 640x480 with 1 Axes>"
      ]
     },
     "metadata": {},
     "output_type": "display_data"
    }
   ],
   "source": [
    "eval(code_block.split(\"\\n\")[1])"
   ]
  },
  {
   "cell_type": "code",
   "execution_count": 19,
   "id": "728dbbc8-d559-49d1-9bc8-5c8d12f8cfa8",
   "metadata": {},
   "outputs": [
    {
     "data": {
      "image/png": "[encoded data removed]",
      "text/plain": [
       "<Figure size 640x480 with 1 Axes>"
      ]
     },
     "metadata": {},
     "output_type": "display_data"
    }
   ],
   "source": [
    "exec(code_block)"
   ]
  },
  {
   "cell_type": "code",
   "execution_count": null,
   "id": "e6a0a9b6-b27d-4fbe-9a6c-14a4d856e7f6",
   "metadata": {},
   "outputs": [],
   "source": []
  }
 ],
 "metadata": {
  "kernelspec": {
   "display_name": "Python 3 (ipykernel)",
   "language": "python",
   "name": "python3"
  },
  "language_info": {
   "codemirror_mode": {
    "name": "ipython",
    "version": 3
   },
   "file_extension": ".py",
   "mimetype": "text/x-python",
   "name": "python",
   "nbconvert_exporter": "python",
   "pygments_lexer": "ipython3",
   "version": "3.10.1"
  }
 },
 "nbformat": 4,
 "nbformat_minor": 5
}
